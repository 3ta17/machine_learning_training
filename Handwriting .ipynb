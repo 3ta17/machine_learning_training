{
 "cells": [
  {
   "cell_type": "code",
   "execution_count": 7,
   "id": "94a1c5a1-6190-487c-8621-795f652c131b",
   "metadata": {},
   "outputs": [
    {
     "name": "stdout",
     "output_type": "stream",
     "text": [
      "--- Image Data ---\n",
      "[[ 0.  0.  5. 13.  9.  1.  0.  0.]\n",
      " [ 0.  0. 13. 15. 10. 15.  5.  0.]\n",
      " [ 0.  3. 15.  2.  0. 11.  8.  0.]\n",
      " [ 0.  4. 12.  0.  0.  8.  8.  0.]\n",
      " [ 0.  5.  8.  0.  0.  9.  8.  0.]\n",
      " [ 0.  4. 11.  0.  1. 12.  7.  0.]\n",
      " [ 0.  2. 14.  5. 10. 12.  0.  0.]\n",
      " [ 0.  0.  6. 13. 10.  0.  0.  0.]]\n",
      "(1797, 8, 8)\n",
      "--- Flattened Image Data ---\n",
      "[ 0.  0.  5. 13.  9.  1.  0.  0.  0.  0. 13. 15. 10. 15.  5.  0.  0.  3.\n",
      " 15.  2.  0. 11.  8.  0.  0.  4. 12.  0.  0.  8.  8.  0.  0.  5.  8.  0.\n",
      "  0.  9.  8.  0.  0.  4. 11.  0.  1. 12.  7.  0.  0.  2. 14.  5. 10. 12.\n",
      "  0.  0.  0.  0.  6. 13. 10.  0.  0.  0.]\n",
      "(1797, 64)\n",
      "--- Labels ---\n",
      "[0 1 2 ... 8 9 8]\n",
      "(1797,)\n"
     ]
    },
    {
     "data": {
      "image/png": "[encoded data removed]",
      "text/plain": [
       "<Figure size 640x480 with 10 Axes>"
      ]
     },
     "metadata": {},
     "output_type": "display_data"
    }
   ],
   "source": [
    "from sklearn import datasets\n",
    "from sklearn import svm\n",
    "import matplotlib.pyplot as plt\n",
    "\n",
    "# Load digit image dataset\n",
    "digits = datasets.load_digits()\n",
    "\n",
    "# Display dataset details\n",
    "print(\"--- Image Data ---\")\n",
    "print(digits.images[0])\n",
    "print(digits.images.shape)\n",
    "print(\"--- Flattened Image Data ---\")\n",
    "print(digits.data[0])\n",
    "print(digits.data.shape)\n",
    "print(\"--- Labels ---\")\n",
    "print(digits.target)\n",
    "print(digits.target.shape)\n",
    "\n",
    "# Display first 10 images and their labels\n",
    "images = digits.images\n",
    "labels = digits.target\n",
    "for i in range(10):\n",
    "    plt.subplot(2, 5, i + 1)\n",
    "    plt.imshow(images[i], cmap=\"Greys\")\n",
    "    plt.axis(\"off\")\n",
    "    plt.title(\"Label: \" + str(labels[i]))\n",
    "plt.show()\n"
   ]
  },
  {
   "cell_type": "code",
   "execution_count": 15,
   "id": "26867f68-b267-4477-b1eb-c86547a2f357",
   "metadata": {},
   "outputs": [
    {
     "name": "stdout",
     "output_type": "stream",
     "text": [
      "              precision    recall  f1-score   support\n",
      "\n",
      "           0       1.00      1.00      1.00        40\n",
      "           1       1.00      1.00      1.00        49\n",
      "           2       1.00      1.00      1.00        46\n",
      "           3       0.98      1.00      0.99        41\n",
      "           4       1.00      0.98      0.99        45\n",
      "           5       0.98      0.98      0.98        54\n",
      "           6       1.00      1.00      1.00        45\n",
      "           7       1.00      1.00      1.00        48\n",
      "           8       1.00      1.00      1.00        39\n",
      "           9       0.95      0.95      0.95        43\n",
      "\n",
      "    accuracy                           0.99       450\n",
      "   macro avg       0.99      0.99      0.99       450\n",
      "weighted avg       0.99      0.99      0.99       450\n",
      "\n",
      "[[40  0  0  0  0  0  0  0  0  0]\n",
      " [ 0 49  0  0  0  0  0  0  0  0]\n",
      " [ 0  0 46  0  0  0  0  0  0  0]\n",
      " [ 0  0  0 41  0  0  0  0  0  0]\n",
      " [ 0  0  0  0 44  0  0  0  0  1]\n",
      " [ 0  0  0  0  0 53  0  0  0  1]\n",
      " [ 0  0  0  0  0  0 45  0  0  0]\n",
      " [ 0  0  0  0  0  0  0 48  0  0]\n",
      " [ 0  0  0  0  0  0  0  0 39  0]\n",
      " [ 0  0  0  1  0  1  0  0  0 41]]\n"
     ]
    },
    {
     "data": {
      "image/png": "[encoded data removed]",
      "text/plain": [
       "<Figure size 640x480 with 10 Axes>"
      ]
     },
     "metadata": {},
     "output_type": "display_data"
    }
   ],
   "source": [
    "from sklearn import datasets\n",
    "from sklearn import svm\n",
    "from sklearn.model_selection import train_test_split\n",
    "from sklearn import metrics\n",
    "import matplotlib.pyplot as plt\n",
    "\n",
    "# Split dataset into training and testing data\n",
    "digits = datasets.load_digits()\n",
    "x_train, x_test, t_train, t_test = train_test_split(digits.data, digits.target)  # 25% test data\n",
    "\n",
    "# Train the Support Vector Machine model\n",
    "clf = svm.SVC()\n",
    "clf.fit(x_train, t_train)\n",
    "\n",
    "# Predict using test data and display metrics\n",
    "y_test = clf.predict(x_test)\n",
    "print(metrics.classification_report(t_test, y_test))\n",
    "print(metrics.confusion_matrix(t_test, y_test))\n",
    "\n",
    "# Display first 10 images and predictions\n",
    "images = digits.images[:10]\n",
    "y_10 = clf.predict(digits.data[:10])\n",
    "for i in range(10):\n",
    "    plt.subplot(2, 5, i + 1)\n",
    "    plt.imshow(images[i], cmap=\"Greys\")\n",
    "    plt.axis(\"off\")\n",
    "    plt.title(\"Guess: \" + str(y_10[i]))\n",
    "plt.show()\n"
   ]
  },
  {
   "cell_type": "code",
   "execution_count": null,
   "id": "6593201d-b3b2-4b88-a7e1-cec2e9f3fde4",
   "metadata": {},
   "outputs": [],
   "source": []
  }
 ],
 "metadata": {
  "kernelspec": {
   "display_name": "anaconda-ai-2024.04-py310",
   "language": "python",
   "name": "conda-env-anaconda-ai-2024.04-py310-py"
  },
  "language_info": {
   "codemirror_mode": {
    "name": "ipython",
    "version": 3
   },
   "file_extension": ".py",
   "mimetype": "text/x-python",
   "name": "python",
   "nbconvert_exporter": "python",
   "pygments_lexer": "ipython3",
   "version": "3.10.13"
  }
 },
 "nbformat": 4,
 "nbformat_minor": 5
}
