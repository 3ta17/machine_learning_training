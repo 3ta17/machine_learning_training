{
 "cells": [
  {
   "cell_type": "code",
   "execution_count": 8,
   "id": "4716bb85-c502-47b6-be8e-99688894f8c7",
   "metadata": {},
   "outputs": [
    {
     "name": "stdout",
     "output_type": "stream",
     "text": [
      "Correct answers: [0, 0, 0, 1, 0, 0, 0, 1, 1, 0]\n",
      "Predictions: [0 0 0 0 1 0 0 0 1 1]\n",
      "Accuracy: 56.71 %\n"
     ]
    }
   ],
   "source": [
    "from sklearn import svm\n",
    "from sklearn.model_selection import train_test_split\n",
    "\n",
    "# Load stock price data from a file\n",
    "with open(\"stock_price.txt\", \"r\") as f:\n",
    "    stock_file_data = f.read()\n",
    "stock_file_data = stock_file_data.split()\n",
    "stock_data = [float(stock_string) for stock_string in stock_file_data]\n",
    "\n",
    "# Calculate the stock price change rate\n",
    "ratio_data = [(stock_data[i] - stock_data[i-1]) / stock_data[i-1] for i in range(1, len(stock_data))]\n",
    "\n",
    "# Create data for 4 consecutive days of change rate and correct labels\n",
    "successive_data = []\n",
    "answers = []\n",
    "for i in range(4, len(ratio_data)):\n",
    "    successive_data.append([ratio_data[i-4], ratio_data[i-3], ratio_data[i-2], ratio_data[i-1]])\n",
    "    answers.append(1 if ratio_data[i] > 0 else 0)\n",
    "\n",
    "# Split data into training and testing sets without shuffling\n",
    "x_train, x_test, t_train, t_test = train_test_split(successive_data, answers, shuffle=False)\n",
    "\n",
    "# Train the Support Vector Machine model\n",
    "clf = svm.SVC()\n",
    "clf.fit(x_train, t_train)\n",
    "\n",
    "# Predict using test data\n",
    "y_test = clf.predict(x_test)\n",
    "\n",
    "# Compare the last 10 results\n",
    "print(\"Correct answers:\", t_test[-10:])\n",
    "print(\"Predictions:\", y_test[-10:])\n",
    "\n",
    "# Calculate and display accuracy\n",
    "correct = sum(1 for i in range(len(t_test)) if y_test[i] == t_test[i])\n",
    "accuracy = correct / len(t_test) * 100\n",
    "print(\"Accuracy:\", f\"{accuracy:.2f} %\")\n"
   ]
  },
  {
   "cell_type": "code",
   "execution_count": null,
   "id": "e79e9bea-8f76-4489-8a57-2be3366d258c",
   "metadata": {},
   "outputs": [],
   "source": []
  }
 ],
 "metadata": {
  "kernelspec": {
   "display_name": "anaconda-ai-2024.04-py310",
   "language": "python",
   "name": "conda-env-anaconda-ai-2024.04-py310-py"
  },
  "language_info": {
   "codemirror_mode": {
    "name": "ipython",
    "version": 3
   },
   "file_extension": ".py",
   "mimetype": "text/x-python",
   "name": "python",
   "nbconvert_exporter": "python",
   "pygments_lexer": "ipython3",
   "version": "3.10.13"
  }
 },
 "nbformat": 4,
 "nbformat_minor": 5
}
